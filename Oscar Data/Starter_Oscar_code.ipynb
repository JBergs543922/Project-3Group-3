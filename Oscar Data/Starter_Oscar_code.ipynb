{
 "cells": [
  {
   "cell_type": "code",
   "execution_count": 1,
   "metadata": {},
   "outputs": [],
   "source": [
    "#Open libraries and csv in pandas \n",
    "import matplotlib.pyplot as plt\n",
    "import pandas as pd\n",
    "import numpy as np\n",
    "from datetime import datetime\n",
    "from scipy.stats import linregress\n",
    "from pathlib import Path "
   ]
  },
  {
   "cell_type": "code",
   "execution_count": 2,
   "metadata": {},
   "outputs": [
    {
     "name": "stdout",
     "output_type": "stream",
     "text": [
      "   oscar_no  oscar_yr         award            name  \\\n",
      "0         1      1929  Best actress    Janet Gaynor   \n",
      "1         2      1930  Best actress   Mary Pickford   \n",
      "2         3      1931  Best actress   Norma Shearer   \n",
      "3         4      1932  Best actress  Marie Dressler   \n",
      "4         5      1933  Best actress     Helen Hayes   \n",
      "\n",
      "                        movie  age       birth_pl  birth_date  birth_mo  \\\n",
      "0                  7th Heaven   22   Pennsylvania  1906-10-06        10   \n",
      "1                    Coquette   37         Canada  1892-04-08         4   \n",
      "2                The Divorcee   28         Canada  1902-08-10         8   \n",
      "3                Min and Bill   63         Canada  1868-11-09        11   \n",
      "4  The Sin of Madelon Claudet   32  Washington DC  1900-10-10        10   \n",
      "\n",
      "   birth_d  birth_y  \n",
      "0        6     1906  \n",
      "1        8     1892  \n",
      "2       10     1902  \n",
      "3        9     1868  \n",
      "4       10     1900  \n"
     ]
    }
   ],
   "source": [
    "\n",
    "#Create path\n",
    "oscars_data = \"/Users/adamsorokes/Documents/GitHub/Project-3Group-3/Oscar Data/oscars.csv\"\n",
    "\n",
    "# Create a DataFrame from the CSV file\n",
    "oscars_data_df = pd.read_csv(oscars_data)\n",
    "\n",
    "# show df head\n",
    "print(oscars_data_df.head())\n"
   ]
  },
  {
   "cell_type": "code",
   "execution_count": 3,
   "metadata": {},
   "outputs": [
    {
     "name": "stdout",
     "output_type": "stream",
     "text": [
      "   index    Year Gender   Race                       Director(s)  \\\n",
      "0      0  1928.0   Male  White  Frank Borzage (Dramatic Picture)   \n",
      "1      1  1928.0   Male  White  Herbert Brenon(Dramatic Picture)   \n",
      "2      2  1928.0   Male  White      King Vidor(Dramatic Picture)   \n",
      "3      3  1928.0   Male  White  Lewis Milestone (Comedy Picture)   \n",
      "4      4  1928.0   Male  White         Ted Wilde(Comedy Picture)   \n",
      "\n",
      "                  Film Nomination/Winner  \n",
      "0           7th Heaven            Winner  \n",
      "1      Sorrell and Son        Nomination  \n",
      "2            The Crowd        Nomination  \n",
      "3  Two Arabian Knights            Winner  \n",
      "4               Speedy        Nomination  \n"
     ]
    }
   ],
   "source": [
    "#import additional csv data into pandas\n",
    "directors_data = \"/Users/adamsorokes/Documents/GitHub/Project-3Group-3/Oscar Data/Oscar Winners - Director.csv\"\n",
    "\n",
    "# Create a DataFrame from the CSV file\n",
    "directors_data_df = pd.read_csv(directors_data)\n",
    "\n",
    "# Now 'df' is your DataFrame, you can work with it\n",
    "print(directors_data_df.head())\n",
    "\n"
   ]
  },
  {
   "cell_type": "code",
   "execution_count": 4,
   "metadata": {},
   "outputs": [
    {
     "name": "stdout",
     "output_type": "stream",
     "text": [
      "   index  oscar_yr Gender   Race                       Director(s)  \\\n",
      "0      0    1928.0   Male  White  Frank Borzage (Dramatic Picture)   \n",
      "1      1    1928.0   Male  White  Herbert Brenon(Dramatic Picture)   \n",
      "2      2    1928.0   Male  White      King Vidor(Dramatic Picture)   \n",
      "3      3    1928.0   Male  White  Lewis Milestone (Comedy Picture)   \n",
      "4      4    1928.0   Male  White         Ted Wilde(Comedy Picture)   \n",
      "\n",
      "                  Film Nomination/Winner  \n",
      "0           7th Heaven            Winner  \n",
      "1      Sorrell and Son        Nomination  \n",
      "2            The Crowd        Nomination  \n",
      "3  Two Arabian Knights            Winner  \n",
      "4               Speedy        Nomination  \n"
     ]
    }
   ],
   "source": [
    "#rename column from year to oscar_yr to be able to merge\n",
    "directors_data_df = directors_data_df.rename(columns={'Year': 'oscar_yr'})\n",
    "\n",
    "print(directors_data_df.head())\n"
   ]
  },
  {
   "cell_type": "code",
   "execution_count": 5,
   "metadata": {},
   "outputs": [
    {
     "name": "stdout",
     "output_type": "stream",
     "text": [
      "     oscar_no  oscar_yr         award          name              movie  age  \\\n",
      "0           1      1929  Best actress  Janet Gaynor         7th Heaven   22   \n",
      "1           1      1929  Best actress  Janet Gaynor         7th Heaven   22   \n",
      "2           1      1929  Best actress  Janet Gaynor         7th Heaven   22   \n",
      "3           1      1929  Best actress  Janet Gaynor         7th Heaven   22   \n",
      "4           1      1929  Best actress  Janet Gaynor         7th Heaven   22   \n",
      "..        ...       ...           ...           ...                ...  ...   \n",
      "903        91      2019    Best actor    Rami Malek  Bohemian Rhapsody   37   \n",
      "904        91      2019    Best actor    Rami Malek  Bohemian Rhapsody   37   \n",
      "905        91      2019    Best actor    Rami Malek  Bohemian Rhapsody   37   \n",
      "906        91      2019    Best actor    Rami Malek  Bohemian Rhapsody   37   \n",
      "907        91      2019    Best actor    Rami Malek  Bohemian Rhapsody   37   \n",
      "\n",
      "         birth_pl  birth_date  birth_mo  birth_d  birth_y  index Gender  \\\n",
      "0    Pennsylvania  1906-10-06        10        6     1906      5   Male   \n",
      "1    Pennsylvania  1906-10-06        10        6     1906      6   Male   \n",
      "2    Pennsylvania  1906-10-06        10        6     1906      7   Male   \n",
      "3    Pennsylvania  1906-10-06        10        6     1906      8   Male   \n",
      "4    Pennsylvania  1906-10-06        10        6     1906      9   Male   \n",
      "..            ...         ...       ...      ...      ...    ...    ...   \n",
      "903    California  1981-05-12         5       12     1981    450   Male   \n",
      "904    California  1981-05-12         5       12     1981    451   Male   \n",
      "905    California  1981-05-12         5       12     1981    452   Male   \n",
      "906    California  1981-05-12         5       12     1981    453   Male   \n",
      "907    California  1981-05-12         5       12     1981    454   Male   \n",
      "\n",
      "      Race        Director(s)                           Film Nomination/Winner  \n",
      "0    White        Frank Lloyd                The Divine Lady            Winner  \n",
      "1    White   Lionel Barrymore                       Madame X        Nomination  \n",
      "2    White     Harry Beaumont            The Broadway Melody        Nomination  \n",
      "3    White    Irving Cummings                 In Old Arizona        Nomination  \n",
      "4    White        Frank Lloyd                           Drag        Nomination  \n",
      "..     ...                ...                            ...               ...  \n",
      "903  Asian       Bong Joon-ho                       Parasite            Winner  \n",
      "904  White         Sam Mendes                           1917        Nomination  \n",
      "905  White      Todd Phillips                          Joker        Nomination  \n",
      "906  White    Martin Scorsese                   The Irishman        Nomination  \n",
      "907  White  Quentin Tarantino  Once Upon a Time in Hollywood        Nomination  \n",
      "\n",
      "[908 rows x 17 columns]\n"
     ]
    }
   ],
   "source": [
    "#merge dataframes on oscar_yr\n",
    "full_oscar_df = pd.merge(oscars_data_df, directors_data_df, on='oscar_yr', how='inner')\n",
    "\n",
    "# Print the merged DataFrame\n",
    "print(full_oscar_df)\n"
   ]
  }
 ],
 "metadata": {
  "kernelspec": {
   "display_name": "base",
   "language": "python",
   "name": "python3"
  },
  "language_info": {
   "codemirror_mode": {
    "name": "ipython",
    "version": 3
   },
   "file_extension": ".py",
   "mimetype": "text/x-python",
   "name": "python",
   "nbconvert_exporter": "python",
   "pygments_lexer": "ipython3",
   "version": "3.11.5"
  }
 },
 "nbformat": 4,
 "nbformat_minor": 2
}
