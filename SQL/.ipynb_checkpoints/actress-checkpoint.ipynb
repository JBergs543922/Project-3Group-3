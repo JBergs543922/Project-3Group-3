{
 "cells": [
  {
   "cell_type": "code",
   "execution_count": 1,
   "id": "47ca5fa8",
   "metadata": {},
   "outputs": [],
   "source": [
    "# Dependencies and Setup\n",
    "import pandas as pd\n",
    "from pathlib import Path\n",
    "\n",
    "# File to Load \n",
    "actress_file = Path(\"Resources/actress.csv\")\n",
    "\n",
    "# Read CSV files and store into Pandas DataFrames\n",
    "actress = pd.read_csv(actress_file)"
   ]
  },
  {
   "cell_type": "code",
   "execution_count": 2,
   "id": "49d6ac63",
   "metadata": {},
   "outputs": [],
   "source": [
    "# Drop extra columns\n",
    "actress = actress.drop(columns=[\"oscar_no\", \"award\", \"birth_mo\", \"birth_d\", \"birth_y\"])"
   ]
  },
  {
   "cell_type": "code",
   "execution_count": 3,
   "id": "fbfd6e76",
   "metadata": {},
   "outputs": [
    {
     "name": "stdout",
     "output_type": "stream",
     "text": [
      "\n",
      "First few rows of oscars DataFrame:\n",
      "   oscar            yr                        name  movie            age  \\\n",
      "0   1929  Best actress                  7th Heaven     22   Pennsylvania   \n",
      "1   1930  Best actress                    Coquette     37         Canada   \n",
      "2   1931  Best actress                The Divorcee     28         Canada   \n",
      "3   1932  Best actress                Min and Bill     63         Canada   \n",
      "4   1933  Best actress  The Sin of Madelon Claudet     32  Washington DC   \n",
      "\n",
      "  birth_place  birth_date  \n",
      "0  1906-10-06          10  \n",
      "1  1892-04-08           4  \n",
      "2  1902-08-10           8  \n",
      "3  1868-11-09          11  \n",
      "4  1900-10-10          10  \n"
     ]
    }
   ],
   "source": [
    "print(\"\\nFirst few rows of oscars DataFrame:\")\n",
    "print(actress.head())"
   ]
  },
  {
   "cell_type": "code",
   "execution_count": 5,
   "id": "64291fe8",
   "metadata": {},
   "outputs": [],
   "source": [
    "# Convert numerical columns to integers in oscars DataFrame\n",
    "actress[\"age\"] = pd.to_numeric(actress[\"age\"], errors='coerce').astype('Int64')"
   ]
  },
  {
   "cell_type": "code",
   "execution_count": 6,
   "id": "d409c12a",
   "metadata": {},
   "outputs": [
    {
     "name": "stdout",
     "output_type": "stream",
     "text": [
      "Cleaned data saved to cleaned_oscars.csv\n"
     ]
    }
   ],
   "source": [
    "# Save the cleaned DataFrame to a new CSV file\n",
    "actress_oscars_file = \"cleaned_oscars.csv\"\n",
    "actress.to_csv(actress_oscars_file, index=False)\n",
    "print(f\"Cleaned data saved to {actress_oscars_file}\")"
   ]
  },
  {
   "cell_type": "code",
   "execution_count": null,
   "id": "9487c9d2",
   "metadata": {},
   "outputs": [],
   "source": []
  }
 ],
 "metadata": {
  "kernelspec": {
   "display_name": "Python 3 (ipykernel)",
   "language": "python",
   "name": "python3"
  },
  "language_info": {
   "codemirror_mode": {
    "name": "ipython",
    "version": 3
   },
   "file_extension": ".py",
   "mimetype": "text/x-python",
   "name": "python",
   "nbconvert_exporter": "python",
   "pygments_lexer": "ipython3",
   "version": "3.11.5"
  }
 },
 "nbformat": 4,
 "nbformat_minor": 5
}
