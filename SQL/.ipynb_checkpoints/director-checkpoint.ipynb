{
 "cells": [
  {
   "cell_type": "code",
   "execution_count": 1,
   "id": "47ca5fa8",
   "metadata": {},
   "outputs": [],
   "source": [
    "# Dependencies and Setup\n",
    "import pandas as pd\n",
    "from pathlib import Path\n",
    "\n",
    "# File to Load \n",
    "director_file = Path(\"Resources/director.csv\")\n",
    "\n",
    "# Read CSV files and store into Pandas DataFrames\n",
    "director = pd.read_csv(director_file)"
   ]
  },
  {
   "cell_type": "code",
   "execution_count": 2,
   "id": "49d6ac63",
   "metadata": {},
   "outputs": [],
   "source": [
    "# Drop extra columns\n",
    "director = director.drop(columns=[\"category\"])"
   ]
  },
  {
   "cell_type": "code",
   "execution_count": 3,
   "id": "fbfd6e76",
   "metadata": {},
   "outputs": [
    {
     "name": "stdout",
     "output_type": "stream",
     "text": [
      "\n",
      "First few rows of oscars DataFrame:\n",
      "   year         director                           movie\n",
      "0  1929    Frank Borzage                      7th Heaven\n",
      "1  1930      Frank Lloyd                 The Divine Lady\n",
      "2  1931  Lewis Milestone  All Quiet on the Western Front\n",
      "3  1932           Skippy                   Norman Taurog\n",
      "4  1933         Bad Girl                   Frank Borzage\n"
     ]
    }
   ],
   "source": [
    "print(\"\\nFirst few rows of oscars DataFrame:\")\n",
    "print(director.head())"
   ]
  },
  {
   "cell_type": "code",
   "execution_count": 5,
   "id": "d409c12a",
   "metadata": {},
   "outputs": [
    {
     "name": "stdout",
     "output_type": "stream",
     "text": [
      "Cleaned data saved to directorcleaned.csv\n"
     ]
    }
   ],
   "source": [
    "# Save the cleaned DataFrame to a new CSV file\n",
    "director_oscars_file = \"directorcleaned.csv\"\n",
    "director.to_csv(director_oscars_file, index=False)\n",
    "print(f\"Cleaned data saved to {director_oscars_file}\")"
   ]
  },
  {
   "cell_type": "code",
   "execution_count": null,
   "id": "9487c9d2",
   "metadata": {},
   "outputs": [],
   "source": []
  }
 ],
 "metadata": {
  "kernelspec": {
   "display_name": "Python 3 (ipykernel)",
   "language": "python",
   "name": "python3"
  },
  "language_info": {
   "codemirror_mode": {
    "name": "ipython",
    "version": 3
   },
   "file_extension": ".py",
   "mimetype": "text/x-python",
   "name": "python",
   "nbconvert_exporter": "python",
   "pygments_lexer": "ipython3",
   "version": "3.11.5"
  }
 },
 "nbformat": 4,
 "nbformat_minor": 5
}
