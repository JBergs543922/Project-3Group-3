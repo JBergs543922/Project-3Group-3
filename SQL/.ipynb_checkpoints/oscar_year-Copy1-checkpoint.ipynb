{
 "cells": [
  {
   "cell_type": "code",
   "execution_count": 1,
   "id": "47ca5fa8",
   "metadata": {},
   "outputs": [],
   "source": [
    "# Dependencies and Setup\n",
    "import pandas as pd\n",
    "from pathlib import Path\n",
    "\n",
    "# File to Load (Remember to Change These)\n",
    "director_file = Path(\"cleaned_csv_files/director_cleaned.csv\")\n",
    "actress_file = Path(\"cleaned_csv_files/actress_cleaned.csv\")\n",
    "actor_file = Path(\"cleaned_csv_files/actor_cleaned.csv\")\n",
    "\n",
    "# Read CSV files and store into Pandas DataFrames\n",
    "director = pd.read_csv(director_file)\n",
    "actress = pd.read_csv(actress_file)\n",
    "actor = pd.read_csv(actor_file)"
   ]
  },
  {
   "cell_type": "code",
   "execution_count": 2,
   "id": "a2f000c8",
   "metadata": {},
   "outputs": [],
   "source": [
    "# Drop the extra column\n",
    "director = director.drop(columns=[\"movie\", ])"
   ]
  },
  {
   "cell_type": "code",
   "execution_count": 3,
   "id": "49d6ac63",
   "metadata": {},
   "outputs": [],
   "source": [
    "# Drop extra columns\n",
    "actor = actor.drop(columns=[\"movie\", \"age\", \"birth_place\", \"birth_date\"])"
   ]
  },
  {
   "cell_type": "code",
   "execution_count": 4,
   "id": "439c3259",
   "metadata": {},
   "outputs": [],
   "source": [
    "# Drop extra columns\n",
    "actress = actress.drop(columns=[\"movie\", \"age\", \"birth_place\", \"birth_date\"])"
   ]
  },
  {
   "cell_type": "code",
   "execution_count": 5,
   "id": "fbfd6e76",
   "metadata": {},
   "outputs": [
    {
     "name": "stdout",
     "output_type": "stream",
     "text": [
      "\n",
      "First few rows of director DataFrame:\n",
      "   year         director\n",
      "0  1929    Frank Borzage\n",
      "1  1930      Frank Lloyd\n",
      "2  1931  Lewis Milestone\n",
      "3  1932           Skippy\n",
      "4  1933         Bad Girl\n",
      "\n",
      "First few rows of actress DataFrame:\n",
      "   year         actress\n",
      "0  1929    Janet Gaynor\n",
      "1  1930   Mary Pickford\n",
      "2  1931   Norma Shearer\n",
      "3  1932  Marie Dressler\n",
      "4  1933     Helen Hayes\n",
      "\n",
      "First few rows of actor DataFrame:\n",
      "   year             actor\n",
      "0  1929     Emil Jannings\n",
      "1  1930     Warner Baxter\n",
      "2  1931     George Arliss\n",
      "3  1932  Lionel Barrymore\n",
      "4  1933     Fredric March\n"
     ]
    }
   ],
   "source": [
    "# Print first few rows of each DataFrame with a message\n",
    "print(\"\\nFirst few rows of director DataFrame:\")\n",
    "print(director.head())\n",
    "\n",
    "print(\"\\nFirst few rows of actress DataFrame:\")\n",
    "print(actress.head())\n",
    "\n",
    "print(\"\\nFirst few rows of actor DataFrame:\")\n",
    "print(actor.head())"
   ]
  },
  {
   "cell_type": "code",
   "execution_count": 8,
   "id": "48e72fd3",
   "metadata": {},
   "outputs": [
    {
     "name": "stdout",
     "output_type": "stream",
     "text": [
      "\n",
      "First few rows of the merged DataFrame:\n",
      "   year         director         actress             actor\n",
      "0  1929    Frank Borzage    Janet Gaynor     Emil Jannings\n",
      "1  1930      Frank Lloyd   Mary Pickford     Warner Baxter\n",
      "2  1931  Lewis Milestone   Norma Shearer     George Arliss\n",
      "3  1932           Skippy  Marie Dressler  Lionel Barrymore\n",
      "4  1933         Bad Girl     Helen Hayes     Fredric March\n"
     ]
    }
   ],
   "source": [
    "# Merge all DataFrames based on the \"year\" column\n",
    "oscar_year = pd.merge(director, actress, on=\"year\", how=\"outer\")\n",
    "oscar_year = pd.merge(oscar_year, actor, on=\"year\", how=\"outer\")\n",
    "\n",
    "# Display the first few rows of the merged DataFrame\n",
    "print(\"\\nFirst few rows of the merged DataFrame:\")\n",
    "print(oscar_year.head())"
   ]
  },
  {
   "cell_type": "code",
   "execution_count": 9,
   "id": "d409c12a",
   "metadata": {},
   "outputs": [],
   "source": [
    "# Optionally, you can save the merged DataFrame back to a CSV file\n",
    "oscar_year.to_csv(\"oscar_year_data.csv\", index=False)"
   ]
  },
  {
   "cell_type": "code",
   "execution_count": null,
   "id": "9487c9d2",
   "metadata": {},
   "outputs": [],
   "source": []
  }
 ],
 "metadata": {
  "kernelspec": {
   "display_name": "Python 3 (ipykernel)",
   "language": "python",
   "name": "python3"
  },
  "language_info": {
   "codemirror_mode": {
    "name": "ipython",
    "version": 3
   },
   "file_extension": ".py",
   "mimetype": "text/x-python",
   "name": "python",
   "nbconvert_exporter": "python",
   "pygments_lexer": "ipython3",
   "version": "3.11.5"
  }
 },
 "nbformat": 4,
 "nbformat_minor": 5
}
