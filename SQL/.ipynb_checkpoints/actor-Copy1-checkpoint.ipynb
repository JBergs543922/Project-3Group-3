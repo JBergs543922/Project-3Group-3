{
 "cells": [
  {
   "cell_type": "code",
   "execution_count": 1,
   "id": "47ca5fa8",
   "metadata": {},
   "outputs": [],
   "source": [
    "# Dependencies and Setup\n",
    "import pandas as pd\n",
    "from pathlib import Path\n",
    "\n",
    "# File to Load \n",
    "actor_file = Path(\"Resources/actor.csv\")\n",
    "\n",
    "# Read CSV files and store into Pandas DataFrames\n",
    "actor = pd.read_csv(actor_file)"
   ]
  },
  {
   "cell_type": "code",
   "execution_count": 2,
   "id": "49d6ac63",
   "metadata": {},
   "outputs": [],
   "source": [
    "# Drop extra columns\n",
    "actor = actor.drop(columns=[\"no\", \"award\", \"birth_mo\", \"birth_d\", \"birth_y\"])"
   ]
  },
  {
   "cell_type": "code",
   "execution_count": 3,
   "id": "fbfd6e76",
   "metadata": {},
   "outputs": [
    {
     "name": "stdout",
     "output_type": "stream",
     "text": [
      "\n",
      "First few rows of oscars DataFrame:\n",
      "   oscar_yr              name                           movie  age  \\\n",
      "0      1929     Emil Jannings  The Way of All Flesh & The Las   44   \n",
      "1      1930     Warner Baxter                  In Old Arizona   40   \n",
      "2      1931     George Arliss                        Disraeli   62   \n",
      "3      1932  Lionel Barrymore                     A Free Soul   53   \n",
      "4      1933     Fredric March         Dr. Jekyll and Mr. Hyde   35   \n",
      "\n",
      "       birth_pl  birth_date  \n",
      "0   Switzerland  1884-07-23  \n",
      "1          Ohio  1889-03-29  \n",
      "2       England  1868-04-10  \n",
      "3  Pennsylvania  1878-04-28  \n",
      "4     Wisconsin  1897-08-31  \n"
     ]
    }
   ],
   "source": [
    "print(\"\\nFirst few rows of oscars DataFrame:\")\n",
    "print(actor.head())"
   ]
  },
  {
   "cell_type": "code",
   "execution_count": 5,
   "id": "64291fe8",
   "metadata": {},
   "outputs": [],
   "source": [
    "# Convert numerical columns to integers in oscars DataFrame\n",
    "actor[\"age\"] = pd.to_numeric(actor[\"age\"], errors='coerce').astype('Int64')"
   ]
  },
  {
   "cell_type": "code",
   "execution_count": 6,
   "id": "d409c12a",
   "metadata": {},
   "outputs": [
    {
     "name": "stdout",
     "output_type": "stream",
     "text": [
      "Cleaned data saved to actorcleaned.csv\n"
     ]
    }
   ],
   "source": [
    "# Save the cleaned DataFrame to a new CSV file\n",
    "actor_oscars_file = \"actorcleaned.csv\"\n",
    "actor.to_csv(actor_oscars_file, index=False)\n",
    "print(f\"Cleaned data saved to {actor_oscars_file}\")"
   ]
  },
  {
   "cell_type": "code",
   "execution_count": null,
   "id": "9487c9d2",
   "metadata": {},
   "outputs": [],
   "source": []
  }
 ],
 "metadata": {
  "kernelspec": {
   "display_name": "Python 3 (ipykernel)",
   "language": "python",
   "name": "python3"
  },
  "language_info": {
   "codemirror_mode": {
    "name": "ipython",
    "version": 3
   },
   "file_extension": ".py",
   "mimetype": "text/x-python",
   "name": "python",
   "nbconvert_exporter": "python",
   "pygments_lexer": "ipython3",
   "version": "3.11.5"
  }
 },
 "nbformat": 4,
 "nbformat_minor": 5
}
