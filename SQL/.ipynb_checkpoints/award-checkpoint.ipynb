{
 "cells": [
  {
   "cell_type": "code",
   "execution_count": 10,
   "id": "47ca5fa8",
   "metadata": {},
   "outputs": [],
   "source": [
    "# Dependencies and Setup\n",
    "import pandas as pd\n",
    "from pathlib import Path\n",
    "\n",
    "# File to Load (Remember to Change These)\n",
    "oscars_file = Path(\"Resources/oscars.csv\")\n",
    "oscar_winners_file = Path(\"Resources/Oscar Winners - Director.csv\")\n",
    "\n",
    "# Read CSV files and store into Pandas DataFrames\n",
    "oscars = pd.read_csv(oscars_file)\n",
    "oscar_winners = pd.read_csv(oscar_winners_file)\n"
   ]
  },
  {
   "cell_type": "code",
   "execution_count": 2,
   "id": "a2f000c8",
   "metadata": {},
   "outputs": [],
   "source": [
    "# Drop the \"year\" column\n",
    "oscar_winners = oscar_winners.drop(columns=[\"index\"])"
   ]
  },
  {
   "cell_type": "code",
   "execution_count": 3,
   "id": "49d6ac63",
   "metadata": {},
   "outputs": [],
   "source": [
    "# Drop the \"year\" column\n",
    "oscars = oscars.drop(columns=[\"oscar_no\"])"
   ]
  },
  {
   "cell_type": "code",
   "execution_count": 4,
   "id": "439c3259",
   "metadata": {},
   "outputs": [],
   "source": [
    "oscars = oscars.rename(columns={\"oscar_yr\": \"year\"})\n",
    "oscar_winners = oscar_winners.rename(columns={'Nomination/Winner': 'nomination', 'Director(s)': 'director', 'Race': 'race'})"
   ]
  },
  {
   "cell_type": "code",
   "execution_count": 5,
   "id": "fbfd6e76",
   "metadata": {},
   "outputs": [
    {
     "name": "stdout",
     "output_type": "stream",
     "text": [
      "\n",
      "First few rows of oscars DataFrame:\n",
      "   year         award            name                       movie  age  \\\n",
      "0  1929  Best actress    Janet Gaynor                  7th Heaven   22   \n",
      "1  1930  Best actress   Mary Pickford                    Coquette   37   \n",
      "2  1931  Best actress   Norma Shearer                The Divorcee   28   \n",
      "3  1932  Best actress  Marie Dressler                Min and Bill   63   \n",
      "4  1933  Best actress     Helen Hayes  The Sin of Madelon Claudet   32   \n",
      "\n",
      "        birth_pl  birth_date  birth_mo  birth_d  birth_y  \n",
      "0   Pennsylvania  1906-10-06        10        6     1906  \n",
      "1         Canada  1892-04-08         4        8     1892  \n",
      "2         Canada  1902-08-10         8       10     1902  \n",
      "3         Canada  1868-11-09        11        9     1868  \n",
      "4  Washington DC  1900-10-10        10       10     1900  \n",
      "\n",
      "First few rows of oscar_winners DataFrame:\n",
      "     Year Gender   race                          director  \\\n",
      "0  1928.0   Male  White  Frank Borzage (Dramatic Picture)   \n",
      "1  1928.0   Male  White  Herbert Brenon(Dramatic Picture)   \n",
      "2  1928.0   Male  White      King Vidor(Dramatic Picture)   \n",
      "3  1928.0   Male  White  Lewis Milestone (Comedy Picture)   \n",
      "4  1928.0   Male  White         Ted Wilde(Comedy Picture)   \n",
      "\n",
      "                  Film  nomination  \n",
      "0           7th Heaven      Winner  \n",
      "1      Sorrell and Son  Nomination  \n",
      "2            The Crowd  Nomination  \n",
      "3  Two Arabian Knights      Winner  \n",
      "4               Speedy  Nomination  \n"
     ]
    }
   ],
   "source": [
    "print(\"\\nFirst few rows of oscars DataFrame:\")\n",
    "print(oscars.head())\n",
    "\n",
    "print(\"\\nFirst few rows of oscar_winners DataFrame:\")\n",
    "print(oscar_winners.head())"
   ]
  },
  {
   "cell_type": "code",
   "execution_count": 6,
   "id": "48e72fd3",
   "metadata": {},
   "outputs": [
    {
     "name": "stdout",
     "output_type": "stream",
     "text": [
      "\n",
      "First few rows of the merged DataFrame:\n",
      "     year Gender   race          director                 Film  nomination  \\\n",
      "0  1929.0   Male  White       Frank Lloyd      The Divine Lady      Winner   \n",
      "1  1929.0   Male  White       Frank Lloyd      The Divine Lady      Winner   \n",
      "2  1929.0   Male  White  Lionel Barrymore             Madame X  Nomination   \n",
      "3  1929.0   Male  White  Lionel Barrymore             Madame X  Nomination   \n",
      "4  1929.0   Male  White    Harry Beaumont  The Broadway Melody  Nomination   \n",
      "\n",
      "          award           name                           movie  age  \\\n",
      "0  Best actress   Janet Gaynor                      7th Heaven   22   \n",
      "1    Best actor  Emil Jannings  The Way of All Flesh & The Las   44   \n",
      "2  Best actress   Janet Gaynor                      7th Heaven   22   \n",
      "3    Best actor  Emil Jannings  The Way of All Flesh & The Las   44   \n",
      "4  Best actress   Janet Gaynor                      7th Heaven   22   \n",
      "\n",
      "       birth_pl  birth_date  birth_mo  birth_d  birth_y  \n",
      "0  Pennsylvania  1906-10-06        10        6     1906  \n",
      "1   Switzerland  1884-07-23         7       23     1884  \n",
      "2  Pennsylvania  1906-10-06        10        6     1906  \n",
      "3   Switzerland  1884-07-23         7       23     1884  \n",
      "4  Pennsylvania  1906-10-06        10        6     1906  \n"
     ]
    }
   ],
   "source": [
    "oscar_winners = oscar_winners.rename(columns={\"Year\": \"year\"})\n",
    "\n",
    "# Merge the DataFrames based on the \"Year\" column\n",
    "merged_data = pd.merge(oscar_winners, oscars, how=\"inner\", on=\"year\")\n",
    "\n",
    "# Display the first few rows of the merged DataFrame\n",
    "print(\"\\nFirst few rows of the merged DataFrame:\")\n",
    "print(merged_data.head())\n",
    "\n",
    "merged_data = merged_data.rename(columns={'Nomination/Winner': 'Nomination', 'Director(s)': 'director', 'Race': 'race'})\n"
   ]
  },
  {
   "cell_type": "code",
   "execution_count": 7,
   "id": "eb10d75a",
   "metadata": {},
   "outputs": [],
   "source": [
    "# Handle non-finite values in the \"year\" column\n",
    "oscar_winners[\"year\"] = oscar_winners[\"year\"].fillna(0)  # Replace NaN with 0 (or any other appropriate value)\n",
    "\n",
    "# Convert the \"year\" column to integers\n",
    "oscar_winners[\"year\"] = oscar_winners[\"year\"].astype(int)"
   ]
  },
  {
   "cell_type": "code",
   "execution_count": 8,
   "id": "64291fe8",
   "metadata": {},
   "outputs": [
    {
     "name": "stdout",
     "output_type": "stream",
     "text": [
      "\n",
      "First few rows of the merged DataFrame:\n",
      "     year Gender   race          director                 Film  nomination  \\\n",
      "0  1929.0   Male  White       Frank Lloyd      The Divine Lady      Winner   \n",
      "1  1929.0   Male  White       Frank Lloyd      The Divine Lady      Winner   \n",
      "2  1929.0   Male  White  Lionel Barrymore             Madame X  Nomination   \n",
      "3  1929.0   Male  White  Lionel Barrymore             Madame X  Nomination   \n",
      "4  1929.0   Male  White    Harry Beaumont  The Broadway Melody  Nomination   \n",
      "\n",
      "          award           name                           movie  age  \\\n",
      "0  Best actress   Janet Gaynor                      7th Heaven   22   \n",
      "1    Best actor  Emil Jannings  The Way of All Flesh & The Las   44   \n",
      "2  Best actress   Janet Gaynor                      7th Heaven   22   \n",
      "3    Best actor  Emil Jannings  The Way of All Flesh & The Las   44   \n",
      "4  Best actress   Janet Gaynor                      7th Heaven   22   \n",
      "\n",
      "       birth_pl  birth_date  birth_mo  birth_d  birth_y  \n",
      "0  Pennsylvania  1906-10-06        10        6     1906  \n",
      "1   Switzerland  1884-07-23         7       23     1884  \n",
      "2  Pennsylvania  1906-10-06        10        6     1906  \n",
      "3   Switzerland  1884-07-23         7       23     1884  \n",
      "4  Pennsylvania  1906-10-06        10        6     1906  \n"
     ]
    }
   ],
   "source": [
    "# Convert numerical columns to integers in oscars DataFrame\n",
    "oscars[\"age\"] = pd.to_numeric(oscars[\"age\"], errors='coerce').astype('Int64')\n",
    "oscars[\"birth_mo\"] = pd.to_numeric(oscars[\"birth_mo\"], errors='coerce').astype('Int64')\n",
    "oscars[\"birth_d\"] = pd.to_numeric(oscars[\"birth_d\"], errors='coerce').astype('Int64')\n",
    "oscars[\"birth_y\"] = pd.to_numeric(oscars[\"birth_y\"], errors='coerce').astype('Int64')\n",
    "\n",
    "# Convert numerical columns to integers in oscar_winners DataFrame\n",
    "oscar_winners[\"year\"] = pd.to_numeric(oscar_winners[\"year\"], errors='coerce').astype('Int64')\n",
    "\n",
    "# Display the first few rows of the merged DataFrame\n",
    "print(\"\\nFirst few rows of the merged DataFrame:\")\n",
    "print(merged_data.head())"
   ]
  },
  {
   "cell_type": "code",
   "execution_count": 9,
   "id": "d409c12a",
   "metadata": {},
   "outputs": [],
   "source": [
    "# Optionally, you can save the merged DataFrame back to a CSV file\n",
    "merged_data.to_csv(\"merged_data.csv\", index=False)"
   ]
  },
  {
   "cell_type": "code",
   "execution_count": null,
   "id": "9487c9d2",
   "metadata": {},
   "outputs": [],
   "source": []
  }
 ],
 "metadata": {
  "kernelspec": {
   "display_name": "Python 3 (ipykernel)",
   "language": "python",
   "name": "python3"
  },
  "language_info": {
   "codemirror_mode": {
    "name": "ipython",
    "version": 3
   },
   "file_extension": ".py",
   "mimetype": "text/x-python",
   "name": "python",
   "nbconvert_exporter": "python",
   "pygments_lexer": "ipython3",
   "version": "3.11.5"
  }
 },
 "nbformat": 4,
 "nbformat_minor": 5
}
