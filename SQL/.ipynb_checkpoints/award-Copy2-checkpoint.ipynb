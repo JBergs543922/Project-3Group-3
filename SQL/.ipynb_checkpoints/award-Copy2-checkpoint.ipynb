{
 "cells": [
  {
   "cell_type": "code",
   "execution_count": 1,
   "id": "47ca5fa8",
   "metadata": {},
   "outputs": [],
   "source": [
    "# Dependencies and Setup\n",
    "import pandas as pd\n",
    "from pathlib import Path\n",
    "\n",
    "# File to Load \n",
    "oscars_file = Path(\"Resources/oscars.csv\")\n",
    "\n",
    "# Read CSV files and store into Pandas DataFrames\n",
    "oscars = pd.read_csv(oscars_file)"
   ]
  },
  {
   "cell_type": "code",
   "execution_count": 2,
   "id": "49d6ac63",
   "metadata": {},
   "outputs": [],
   "source": [
    "# Drop extra columns\n",
    "oscars = oscars.drop(columns=[\"oscar_no\",\"age\",\"birth_pl\", \"birth_date\", \"birth_mo\", \"birth_d\", \"birth_y\"])"
   ]
  },
  {
   "cell_type": "code",
   "execution_count": 2,
   "id": "439c3259",
   "metadata": {},
   "outputs": [],
   "source": [
    "oscars = oscars.rename(columns={\"oscar_yr\": \"year\"})"
   ]
  },
  {
   "cell_type": "code",
   "execution_count": 3,
   "id": "fbfd6e76",
   "metadata": {},
   "outputs": [
    {
     "name": "stdout",
     "output_type": "stream",
     "text": [
      "\n",
      "First few rows of oscars DataFrame:\n",
      "   oscar_no  year         award            name                       movie  \\\n",
      "0         1  1929  Best actress    Janet Gaynor                  7th Heaven   \n",
      "1         2  1930  Best actress   Mary Pickford                    Coquette   \n",
      "2         3  1931  Best actress   Norma Shearer                The Divorcee   \n",
      "3         4  1932  Best actress  Marie Dressler                Min and Bill   \n",
      "4         5  1933  Best actress     Helen Hayes  The Sin of Madelon Claudet   \n",
      "\n",
      "   age       birth_pl  birth_date  birth_mo  birth_d  birth_y  \n",
      "0   22   Pennsylvania  1906-10-06        10        6     1906  \n",
      "1   37         Canada  1892-04-08         4        8     1892  \n",
      "2   28         Canada  1902-08-10         8       10     1902  \n",
      "3   63         Canada  1868-11-09        11        9     1868  \n",
      "4   32  Washington DC  1900-10-10        10       10     1900  \n"
     ]
    }
   ],
   "source": [
    "print(\"\\nFirst few rows of oscars DataFrame:\")\n",
    "print(oscars.head())"
   ]
  },
  {
   "cell_type": "code",
   "execution_count": 5,
   "id": "64291fe8",
   "metadata": {},
   "outputs": [],
   "source": [
    "# Convert numerical columns to integers in oscars DataFrame\n",
    "oscars[\"age\"] = pd.to_numeric(oscars[\"age\"], errors='coerce').astype('Int64')\n",
    "oscars[\"birth_mo\"] = pd.to_numeric(oscars[\"birth_mo\"], errors='coerce').astype('Int64')\n",
    "oscars[\"birth_d\"] = pd.to_numeric(oscars[\"birth_d\"], errors='coerce').astype('Int64')\n",
    "oscars[\"birth_y\"] = pd.to_numeric(oscars[\"birth_y\"], errors='coerce').astype('Int64')"
   ]
  },
  {
   "cell_type": "code",
   "execution_count": 7,
   "id": "d409c12a",
   "metadata": {},
   "outputs": [
    {
     "name": "stdout",
     "output_type": "stream",
     "text": [
      "Cleaned data saved to cleaned_oscars.csv\n"
     ]
    }
   ],
   "source": [
    "# Save the cleaned DataFrame to a new CSV file\n",
    "award_oscars_file = \"cleaned_oscars.csv\"\n",
    "oscars.to_csv(award_oscars_file, index=False)\n",
    "print(f\"Cleaned data saved to {award_oscars_file}\")"
   ]
  },
  {
   "cell_type": "code",
   "execution_count": null,
   "id": "9487c9d2",
   "metadata": {},
   "outputs": [],
   "source": []
  }
 ],
 "metadata": {
  "kernelspec": {
   "display_name": "Python 3 (ipykernel)",
   "language": "python",
   "name": "python3"
  },
  "language_info": {
   "codemirror_mode": {
    "name": "ipython",
    "version": 3
   },
   "file_extension": ".py",
   "mimetype": "text/x-python",
   "name": "python",
   "nbconvert_exporter": "python",
   "pygments_lexer": "ipython3",
   "version": "3.11.5"
  }
 },
 "nbformat": 4,
 "nbformat_minor": 5
}
