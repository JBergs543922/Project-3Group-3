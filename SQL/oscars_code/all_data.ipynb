{
 "cells": [
  {
   "cell_type": "code",
   "execution_count": 2,
   "id": "47ca5fa8",
   "metadata": {},
   "outputs": [],
   "source": [
    "# Dependencies and Setup\n",
    "import pandas as pd\n",
    "from pathlib import Path\n",
    "\n",
    "# File to Load (Remember to Change These)\n",
    "director_file = Path(\"cleaned_csv_files/director_cleaned.csv\")\n",
    "actress_file = Path(\"cleaned_csv_files/actress_cleaned.csv\")\n",
    "actor_file = Path(\"cleaned_csv_files/actor_cleaned.csv\")\n",
    "oscars_year_file= (\"cleaned_csv_files/oscars_year_cleaned.csv\")\n",
    "\n",
    "# Read CSV files and store into Pandas DataFrames\n",
    "director = pd.read_csv(director_file)\n",
    "actress = pd.read_csv(actress_file)\n",
    "actor = pd.read_csv(actor_file)\n",
    "oscars_year = pd.read_csv(oscars_year_file)"
   ]
  },
  {
   "cell_type": "code",
   "execution_count": 3,
   "id": "fbfd6e76",
   "metadata": {},
   "outputs": [
    {
     "name": "stdout",
     "output_type": "stream",
     "text": [
      "\n",
      "First few rows of director DataFrame:\n",
      "   year         director                           movie\n",
      "0  1929    Frank Borzage                      7th Heaven\n",
      "1  1930      Frank Lloyd                 The Divine Lady\n",
      "2  1931  Lewis Milestone  All Quiet on the Western Front\n",
      "3  1932           Skippy                   Norman Taurog\n",
      "4  1933         Bad Girl                   Frank Borzage\n",
      "\n",
      "First few rows of actress DataFrame:\n",
      "   year         actress                       movie  age    birth_place  \\\n",
      "0  1929    Janet Gaynor                  7th Heaven   22   Pennsylvania   \n",
      "1  1930   Mary Pickford                    Coquette   37         Canada   \n",
      "2  1931   Norma Shearer                The Divorcee   28         Canada   \n",
      "3  1932  Marie Dressler                Min and Bill   63         Canada   \n",
      "4  1933     Helen Hayes  The Sin of Madelon Claudet   32  Washington DC   \n",
      "\n",
      "   birth_date  \n",
      "0  1906-10-06  \n",
      "1  1892-04-08  \n",
      "2  1902-08-10  \n",
      "3  1868-11-09  \n",
      "4  1900-10-10  \n",
      "\n",
      "First few rows of actor DataFrame:\n",
      "   year             actor                           movie  age   birth_place  \\\n",
      "0  1929     Emil Jannings  The Way of All Flesh & The Las   44   Switzerland   \n",
      "1  1930     Warner Baxter                  In Old Arizona   40          Ohio   \n",
      "2  1931     George Arliss                        Disraeli   62       England   \n",
      "3  1932  Lionel Barrymore                     A Free Soul   53  Pennsylvania   \n",
      "4  1933     Fredric March         Dr. Jekyll and Mr. Hyde   35     Wisconsin   \n",
      "\n",
      "   birth_date  \n",
      "0  1884-07-23  \n",
      "1  1889-03-29  \n",
      "2  1868-04-10  \n",
      "3  1878-04-28  \n",
      "4  1897-08-31  \n",
      "\n",
      "First few rows of oscars_year DataFrame:\n",
      "   year         director         actress             actor\n",
      "0  1929    Frank Borzage    Janet Gaynor     Emil Jannings\n",
      "1  1930      Frank Lloyd   Mary Pickford     Warner Baxter\n",
      "2  1931  Lewis Milestone   Norma Shearer     George Arliss\n",
      "3  1932           Skippy  Marie Dressler  Lionel Barrymore\n",
      "4  1933         Bad Girl     Helen Hayes     Fredric March\n"
     ]
    }
   ],
   "source": [
    "# Print first few rows of each DataFrame with a message\n",
    "print(\"\\nFirst few rows of director DataFrame:\")\n",
    "print(director.head())\n",
    "\n",
    "print(\"\\nFirst few rows of actress DataFrame:\")\n",
    "print(actress.head())\n",
    "\n",
    "print(\"\\nFirst few rows of actor DataFrame:\")\n",
    "print(actor.head())\n",
    "\n",
    "print(\"\\nFirst few rows of oscars_year DataFrame:\")\n",
    "print(oscars_year.head())"
   ]
  },
  {
   "cell_type": "code",
   "execution_count": 4,
   "id": "48e72fd3",
   "metadata": {},
   "outputs": [
    {
     "name": "stdout",
     "output_type": "stream",
     "text": [
      "\n",
      "First few rows of the final merged DataFrame:\n",
      "   year       director_x                         movie_x       actress_x  \\\n",
      "0  1929    Frank Borzage                      7th Heaven    Janet Gaynor   \n",
      "1  1930      Frank Lloyd                 The Divine Lady   Mary Pickford   \n",
      "2  1931  Lewis Milestone  All Quiet on the Western Front   Norma Shearer   \n",
      "3  1932           Skippy                   Norman Taurog  Marie Dressler   \n",
      "4  1933         Bad Girl                   Frank Borzage     Helen Hayes   \n",
      "\n",
      "                      movie_y  age_x  birth_place_x birth_date_x  \\\n",
      "0                  7th Heaven   22.0   Pennsylvania   1906-10-06   \n",
      "1                    Coquette   37.0         Canada   1892-04-08   \n",
      "2                The Divorcee   28.0         Canada   1902-08-10   \n",
      "3                Min and Bill   63.0         Canada   1868-11-09   \n",
      "4  The Sin of Madelon Claudet   32.0  Washington DC   1900-10-10   \n",
      "\n",
      "            actor_x                           movie  age_y birth_place_y  \\\n",
      "0     Emil Jannings  The Way of All Flesh & The Las   44.0   Switzerland   \n",
      "1     Warner Baxter                  In Old Arizona   40.0          Ohio   \n",
      "2     George Arliss                        Disraeli   62.0       England   \n",
      "3  Lionel Barrymore                     A Free Soul   53.0  Pennsylvania   \n",
      "4     Fredric March         Dr. Jekyll and Mr. Hyde   35.0     Wisconsin   \n",
      "\n",
      "  birth_date_y       director_y       actress_y           actor_y  \n",
      "0   1884-07-23    Frank Borzage    Janet Gaynor     Emil Jannings  \n",
      "1   1889-03-29      Frank Lloyd   Mary Pickford     Warner Baxter  \n",
      "2   1868-04-10  Lewis Milestone   Norma Shearer     George Arliss  \n",
      "3   1878-04-28           Skippy  Marie Dressler  Lionel Barrymore  \n",
      "4   1897-08-31         Bad Girl     Helen Hayes     Fredric March  \n"
     ]
    }
   ],
   "source": [
    "# Merge director, actress, and actor DataFrames based on the \"year\" column\n",
    "merged_data = pd.merge(director, actress, on=\"year\", how=\"outer\")\n",
    "merged_data = pd.merge(merged_data, actor, on=\"year\", how=\"outer\")\n",
    "\n",
    "# Merge the merged_data DataFrame with oscars_year DataFrame based on the \"year\" column\n",
    "all_data = pd.merge(merged_data, oscars_year, on=\"year\", how=\"outer\")\n",
    "\n",
    "# Display the first few rows of the final merged DataFrame\n",
    "print(\"\\nFirst few rows of the final merged DataFrame:\")\n",
    "print(all_data.head())"
   ]
  },
  {
   "cell_type": "code",
   "execution_count": 5,
   "id": "d409c12a",
   "metadata": {},
   "outputs": [],
   "source": [
    "# Optionally, you can save the merged DataFrame back to a CSV file\n",
    "all_data.to_csv(\"all_data.csv\", index=False)"
   ]
  },
  {
   "cell_type": "code",
   "execution_count": null,
   "id": "9487c9d2",
   "metadata": {},
   "outputs": [],
   "source": []
  }
 ],
 "metadata": {
  "kernelspec": {
   "display_name": "Python 3 (ipykernel)",
   "language": "python",
   "name": "python3"
  },
  "language_info": {
   "codemirror_mode": {
    "name": "ipython",
    "version": 3
   },
   "file_extension": ".py",
   "mimetype": "text/x-python",
   "name": "python",
   "nbconvert_exporter": "python",
   "pygments_lexer": "ipython3",
   "version": "3.11.5"
  }
 },
 "nbformat": 4,
 "nbformat_minor": 5
}
