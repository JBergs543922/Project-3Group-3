{
 "cells": [
  {
   "cell_type": "code",
   "execution_count": 3,
   "id": "669b4f3a",
   "metadata": {},
   "outputs": [],
   "source": [
    "# Dependencies and Setup\n",
    "import pandas as pd\n",
    "from pathlib import Path\n",
    "\n",
    "# File to Load \n",
    "oscars_file = Path(\"original_data/director.csv\")\n",
    "\n",
    "# Read CSV files and store into Pandas DataFrames\n",
    "oscars = pd.read_csv(oscars_file)"
   ]
  },
  {
   "cell_type": "code",
   "execution_count": 4,
   "id": "4be9c80b",
   "metadata": {},
   "outputs": [],
   "source": [
    "# Writing data to a CSV file\n",
    "with open('directing_winners.csv', mode='w', newline='') as file:\n",
    "    writer = csv.writer(file)\n",
    "    writer.writerow(['Year', 'Category', 'Director', 'Movie'])\n",
    "    for i, item in enumerate(data):\n",
    "        year = int(item[0].split()[0]) + 1\n",
    "        new_year = f\"{year} ({i + 1}st)\"\n",
    "        writer.writerow((new_year,) + item[1:])"
   ]
  },
  {
   "cell_type": "code",
   "execution_count": null,
   "id": "b07f2aa5",
   "metadata": {},
   "outputs": [],
   "source": []
  }
 ],
 "metadata": {
  "kernelspec": {
   "display_name": "Python 3 (ipykernel)",
   "language": "python",
   "name": "python3"
  },
  "language_info": {
   "codemirror_mode": {
    "name": "ipython",
    "version": 3
   },
   "file_extension": ".py",
   "mimetype": "text/x-python",
   "name": "python",
   "nbconvert_exporter": "python",
   "pygments_lexer": "ipython3",
   "version": "3.11.5"
  }
 },
 "nbformat": 4,
 "nbformat_minor": 5
}
