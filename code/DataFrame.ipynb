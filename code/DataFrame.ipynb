{
 "cells": [
  {
   "cell_type": "code",
   "execution_count": 2,
   "metadata": {},
   "outputs": [],
   "source": [
    "#import statements\n",
    "import pandas as pd;\n",
    "from pathlib import Path;\n",
    "from pyspark.sql import SparkSession\n",
    "\n",
    "#libraries we could import\n",
    "\n",
    "#ramp\n",
    "#pi torch\n",
    "#pip envy\n",
    "#bob\n",
    "#pi brain\n",
    "#SQL library\n",
    "#pi spark"
   ]
  },
  {
   "cell_type": "code",
   "execution_count": 3,
   "metadata": {},
   "outputs": [],
   "source": [
    "#csv reads and data frame creation (we can also do this with sparks)\n",
    "file_path1 = Path(\"../Oscar Data/Oscar Winners - Director.csv\");\n",
    "file_path2 = Path(\"../Oscar Data/oscars.csv\");\n",
    "file_path3 = Path(\"../Oscar Data/the_oscar_award.csv\");\n",
    "\n",
    "data_frame_direct = pd.read_csv(file_path1, encoding=\"UTF-8\");\n",
    "data_frame_actor = pd.read_csv(file_path2, encoding=\"UTF-8\");\n",
    "data_frame_oscar = pd.read_csv(file_path3, encoding=\"UTF-8\");"
   ]
  },
  {
   "cell_type": "code",
   "execution_count": 4,
   "metadata": {},
   "outputs": [
    {
     "data": {
      "text/html": [
       "<div>\n",
       "<style scoped>\n",
       "    .dataframe tbody tr th:only-of-type {\n",
       "        vertical-align: middle;\n",
       "    }\n",
       "\n",
       "    .dataframe tbody tr th {\n",
       "        vertical-align: top;\n",
       "    }\n",
       "\n",
       "    .dataframe thead th {\n",
       "        text-align: right;\n",
       "    }\n",
       "</style>\n",
       "<table border=\"1\" class=\"dataframe\">\n",
       "  <thead>\n",
       "    <tr style=\"text-align: right;\">\n",
       "      <th></th>\n",
       "      <th>year_film</th>\n",
       "      <th>year_ceremony</th>\n",
       "      <th>ceremony</th>\n",
       "      <th>category</th>\n",
       "      <th>name</th>\n",
       "      <th>film</th>\n",
       "      <th>winner</th>\n",
       "    </tr>\n",
       "  </thead>\n",
       "  <tbody>\n",
       "    <tr>\n",
       "      <th>10760</th>\n",
       "      <td>2022</td>\n",
       "      <td>2023</td>\n",
       "      <td>95</td>\n",
       "      <td>HONORARY AWARD</td>\n",
       "      <td>To Euzhan Palcy, a masterful filmmaker who bro...</td>\n",
       "      <td>NaN</td>\n",
       "      <td>True</td>\n",
       "    </tr>\n",
       "    <tr>\n",
       "      <th>10761</th>\n",
       "      <td>2022</td>\n",
       "      <td>2023</td>\n",
       "      <td>95</td>\n",
       "      <td>HONORARY AWARD</td>\n",
       "      <td>To Diane Warren, for her genius, generosity an...</td>\n",
       "      <td>NaN</td>\n",
       "      <td>True</td>\n",
       "    </tr>\n",
       "    <tr>\n",
       "      <th>10762</th>\n",
       "      <td>2022</td>\n",
       "      <td>2023</td>\n",
       "      <td>95</td>\n",
       "      <td>HONORARY AWARD</td>\n",
       "      <td>To Peter Weir, a fearless and consummate filmm...</td>\n",
       "      <td>NaN</td>\n",
       "      <td>True</td>\n",
       "    </tr>\n",
       "    <tr>\n",
       "      <th>10763</th>\n",
       "      <td>2022</td>\n",
       "      <td>2023</td>\n",
       "      <td>95</td>\n",
       "      <td>GORDON E. SAWYER AWARD</td>\n",
       "      <td>Iain Neil</td>\n",
       "      <td>NaN</td>\n",
       "      <td>True</td>\n",
       "    </tr>\n",
       "    <tr>\n",
       "      <th>10764</th>\n",
       "      <td>2022</td>\n",
       "      <td>2023</td>\n",
       "      <td>95</td>\n",
       "      <td>AWARD OF COMMENDATION</td>\n",
       "      <td>To Ryan Laney for his innovative adaptation an...</td>\n",
       "      <td>Welcome to Chechnya</td>\n",
       "      <td>True</td>\n",
       "    </tr>\n",
       "  </tbody>\n",
       "</table>\n",
       "</div>"
      ],
      "text/plain": [
       "       year_film  year_ceremony  ceremony                category  \\\n",
       "10760       2022           2023        95          HONORARY AWARD   \n",
       "10761       2022           2023        95          HONORARY AWARD   \n",
       "10762       2022           2023        95          HONORARY AWARD   \n",
       "10763       2022           2023        95  GORDON E. SAWYER AWARD   \n",
       "10764       2022           2023        95   AWARD OF COMMENDATION   \n",
       "\n",
       "                                                    name                 film  \\\n",
       "10760  To Euzhan Palcy, a masterful filmmaker who bro...                  NaN   \n",
       "10761  To Diane Warren, for her genius, generosity an...                  NaN   \n",
       "10762  To Peter Weir, a fearless and consummate filmm...                  NaN   \n",
       "10763                                          Iain Neil                  NaN   \n",
       "10764  To Ryan Laney for his innovative adaptation an...  Welcome to Chechnya   \n",
       "\n",
       "       winner  \n",
       "10760    True  \n",
       "10761    True  \n",
       "10762    True  \n",
       "10763    True  \n",
       "10764    True  "
      ]
     },
     "execution_count": 4,
     "metadata": {},
     "output_type": "execute_result"
    }
   ],
   "source": [
    "#read verification\n",
    "data_frame_oscar.tail();"
   ]
  },
  {
   "cell_type": "code",
   "execution_count": 13,
   "metadata": {},
   "outputs": [
    {
     "data": {
      "text/plain": [
       "115"
      ]
     },
     "execution_count": 13,
     "metadata": {},
     "output_type": "execute_result"
    }
   ],
   "source": [
    "cat_list = data_frame_oscar['category'].unique()\n",
    "cat_list.size\n",
    "#attempt to iterate through the array and create an equal number of dataframes\n",
    "for item in cat_list.size():\n",
    "    data_frame_ = pd.DataFrame();\n"
   ]
  },
  {
   "cell_type": "code",
   "execution_count": null,
   "metadata": {},
   "outputs": [],
   "source": [
    "#need to find a efficient convention to rename columns\n",
    "data_frame_oscar.rename(columns = {})"
   ]
  },
  {
   "cell_type": "code",
   "execution_count": null,
   "metadata": {},
   "outputs": [],
   "source": [
    "#working on a way to split the larger oscar database into smaller databases of like category\n",
    "data_frame_actor = pd.DataFrame()\n",
    "for entry in data_frame_oscar:\n",
    "    #entry = data_frame_oscar[entry];\n",
    "    for item in cat_list:\n",
    "        if(entry['category']==item):\n",
    "            {\n",
    "            \n",
    "        }"
   ]
  }
 ],
 "metadata": {
  "kernelspec": {
   "display_name": "dev",
   "language": "python",
   "name": "python3"
  },
  "language_info": {
   "codemirror_mode": {
    "name": "ipython",
    "version": 3
   },
   "file_extension": ".py",
   "mimetype": "text/x-python",
   "name": "python",
   "nbconvert_exporter": "python",
   "pygments_lexer": "ipython3",
   "version": "3.10.13"
  }
 },
 "nbformat": 4,
 "nbformat_minor": 2
}
