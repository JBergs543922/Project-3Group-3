{
 "cells": [
  {
   "cell_type": "code",
   "execution_count": 7,
   "metadata": {},
   "outputs": [],
   "source": [
    "#Open libraries and csv in pandas \n",
    "import matplotlib.pyplot as plt\n",
    "import pandas as pd\n",
    "import numpy as np\n",
    "from datetime import datetime\n",
    "from scipy.stats import linregress\n",
    "import pathlib as path "
   ]
  },
  {
   "cell_type": "code",
   "execution_count": 13,
   "metadata": {},
   "outputs": [
    {
     "name": "stdout",
     "output_type": "stream",
     "text": [
      "   oscar_no  oscar_yr         award            name  \\\n",
      "0         1      1929  Best actress    Janet Gaynor   \n",
      "1         2      1930  Best actress   Mary Pickford   \n",
      "2         3      1931  Best actress   Norma Shearer   \n",
      "3         4      1932  Best actress  Marie Dressler   \n",
      "4         5      1933  Best actress     Helen Hayes   \n",
      "\n",
      "                        movie  age       birth_pl  birth_date  birth_mo  \\\n",
      "0                  7th Heaven   22   Pennsylvania  1906-10-06        10   \n",
      "1                    Coquette   37         Canada  1892-04-08         4   \n",
      "2                The Divorcee   28         Canada  1902-08-10         8   \n",
      "3                Min and Bill   63         Canada  1868-11-09        11   \n",
      "4  The Sin of Madelon Claudet   32  Washington DC  1900-10-10        10   \n",
      "\n",
      "   birth_d  birth_y  \n",
      "0        6     1906  \n",
      "1        8     1892  \n",
      "2       10     1902  \n",
      "3        9     1868  \n",
      "4       10     1900  \n"
     ]
    }
   ],
   "source": [
    "#import csv files\n",
    "oscars_data = Path(\"/Users/adamsorokes/Documents/GitHub/Project-3Group-3/Oscar Data/oscars.csv\")\n",
    "\n",
    "if oscars_data.exists():\n",
    "    df = pd.read_csv(oscars_data)\n",
    "    #print table head if it exists\n",
    "    print(df.head())\n",
    "else:\n",
    "    print(\"Oscars data file not found.\")"
   ]
  },
  {
   "cell_type": "code",
   "execution_count": 18,
   "metadata": {},
   "outputs": [
    {
     "name": "stdout",
     "output_type": "stream",
     "text": [
      "   index      Year Gender   Race                       Director(s)  \\\n",
      "0      0  1927/28    Male  White  Frank Borzage (Dramatic Picture)   \n",
      "1      1  1927/28    Male  White  Herbert Brenon(Dramatic Picture)   \n",
      "2      2  1927/28    Male  White      King Vidor(Dramatic Picture)   \n",
      "3      3  1927/28    Male  White  Lewis Milestone (Comedy Picture)   \n",
      "4      4  1927/28    Male  White         Ted Wilde(Comedy Picture)   \n",
      "\n",
      "                  Film Nomination/Winner  \n",
      "0           7th Heaven            Winner  \n",
      "1      Sorrell and Son        Nomination  \n",
      "2            The Crowd        Nomination  \n",
      "3  Two Arabian Knights            Winner  \n",
      "4               Speedy        Nomination  \n"
     ]
    }
   ],
   "source": [
    "#import additional csv data into pandas\n",
    "directors_data = Path(\"/Users/adamsorokes/Documents/GitHub/Project-3Group-3/Oscar Data/Oscar Winners - Director.csv\")\n",
    "\n",
    "if directors_data.exists():\n",
    "    df = pd.read_csv(directors_data)\n",
    "    #print table head if it exists\n",
    "    print(df.head())\n",
    "else:\n",
    "    print(\"Oscars data file not found.\")"
   ]
  },
  {
   "cell_type": "code",
   "execution_count": 19,
   "metadata": {},
   "outputs": [
    {
     "name": "stdout",
     "output_type": "stream",
     "text": [
      "   year_film  year_ceremony  ceremony category                 name  \\\n",
      "0       1927           1928         1    ACTOR  Richard Barthelmess   \n",
      "1       1927           1928         1    ACTOR        Emil Jannings   \n",
      "2       1927           1928         1  ACTRESS       Louise Dresser   \n",
      "3       1927           1928         1  ACTRESS         Janet Gaynor   \n",
      "4       1927           1928         1  ACTRESS       Gloria Swanson   \n",
      "\n",
      "               film  winner  \n",
      "0         The Noose   False  \n",
      "1  The Last Command    True  \n",
      "2   A Ship Comes In   False  \n",
      "3        7th Heaven    True  \n",
      "4    Sadie Thompson   False  \n"
     ]
    }
   ],
   "source": [
    "#import final csv into pandas\n",
    "oscars_award_data = Path(\"/Users/adamsorokes/Documents/GitHub/Project-3Group-3/Oscar Data/the_oscar_award.csv\")\n",
    "\n",
    "if oscars_award_data.exists():\n",
    "    df = pd.read_csv(oscars_award_data)\n",
    "    #print table head if it exists\n",
    "    print(df.head())\n",
    "else:\n",
    "    print(\"Oscars data file not found.\")"
   ]
  }
 ],
 "metadata": {
  "kernelspec": {
   "display_name": "base",
   "language": "python",
   "name": "python3"
  },
  "language_info": {
   "codemirror_mode": {
    "name": "ipython",
    "version": 3
   },
   "file_extension": ".py",
   "mimetype": "text/x-python",
   "name": "python",
   "nbconvert_exporter": "python",
   "pygments_lexer": "ipython3",
   "version": "3.11.5"
  }
 },
 "nbformat": 4,
 "nbformat_minor": 2
}
