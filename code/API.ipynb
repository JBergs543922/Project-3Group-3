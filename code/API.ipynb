{
 "cells": [
  {
   "cell_type": "code",
   "execution_count": 1,
   "metadata": {},
   "outputs": [],
   "source": [
    "#----------------------------------------------------------------------\n",
    "#IMDB The Sequel API Access\n",
    "#GWU Project3Group3\n",
    "#----------------------------------------------------------------------"
   ]
  },
  {
   "cell_type": "code",
   "execution_count": 2,
   "metadata": {},
   "outputs": [],
   "source": [
    "#imports\n",
    "import pandas as pd;\n",
    "from pathlib import Path;\n",
    "from pyspark.sql import SparkSession;\n",
    "import sqlite3 as sl;"
   ]
  },
  {
   "cell_type": "code",
   "execution_count": 3,
   "metadata": {},
   "outputs": [],
   "source": [
    "#convert SQL database to csv or pandas dataframe\n",
    "file_path = Path(\"../Oscar Data/full_oscar.csv\");\n",
    "MainDF = pd.read_csv(file_path, encoding=\"UTF-8\");\n",
    "#probably need code to access the sql database"
   ]
  },
  {
   "cell_type": "code",
   "execution_count": 4,
   "metadata": {},
   "outputs": [],
   "source": [
    "#Database Year Fetch\n",
    "def userInterfaceYear(start, finish):\n",
    "    #establish the output csv\n",
    "    outputDF = pd.DataFrame();\n",
    "    #loop through the main database df\n",
    "    for x in MainDF:\n",
    "        print(MainDF[\"oscar_year\"]);\n",
    "        #grab conditional field\n",
    "        oscar_year = MainDF[\"oscar_year\"];\n",
    "        #determine entry elegibility and append if found true\n",
    "        if oscar_year >= start & oscar_year<=finish:\n",
    "            outputDF.append(x)\n",
    "            \n",
    "    #return pandas dataframe result for saving as csv and output\n",
    "    return outputDF;\n",
    "    "
   ]
  },
  {
   "cell_type": "code",
   "execution_count": 5,
   "metadata": {},
   "outputs": [],
   "source": [
    "#Database name Fetch\n",
    "def userInterfaceName(name):\n",
    "    #establish the output csv\n",
    "    outputDF = pd.DataFrame();\n",
    "    #loop through the main database df\n",
    "    for x in MainDF:\n",
    "        winner_name = MainDF['name'];\n",
    "        if winner_name == name :\n",
    "            outputDF.append(x)\n",
    "    \n",
    "    #return pandas dataframe result for saving as csv and output\n",
    "    return outputDF;"
   ]
  },
  {
   "cell_type": "code",
   "execution_count": 6,
   "metadata": {},
   "outputs": [],
   "source": [
    "#Database name Fetch\n",
    "def userInterfaceDir(director):\n",
    "    #establish the output csv\n",
    "    outputDF = pd.DataFrame();\n",
    "    #loop through the main database df\n",
    "    for x in MainDF:\n",
    "        director_name = MainDF['Director(s)'];\n",
    "        if director_name == director :\n",
    "            outputDF.append(x)\n",
    "    \n",
    "    #return pandas dataframe result for saving as csv and output\n",
    "    return outputDF;"
   ]
  },
  {
   "cell_type": "code",
   "execution_count": 7,
   "metadata": {},
   "outputs": [],
   "source": [
    "def readtoCSV(dataFrame): \n",
    "    #save database as a csv file\n",
    "    dataFrame.to_csv('output.csv')\n",
    "    #print resulting dataframe\n",
    "    print(dataFrame)"
   ]
  },
  {
   "cell_type": "code",
   "execution_count": 8,
   "metadata": {},
   "outputs": [],
   "source": [
    "#Prompt/Interface for User\n",
    "def userInterface():\n",
    "    print(\"Greetings user and welcome to the IMDB The Sequel API!\");\n",
    "    print(\"\");\n",
    "    print(\"This database is a compilation of oscar winning films from 1928 until 2023.\");\n",
    "    print(\"To query the database, you may chose to enter the following commands 1) year span, 2) nominee name, or 3) director name: \");\n",
    "    userResponse = input(\"Please enter your search field: \");\n",
    "    if userResponse == \"year span\":\n",
    "        #grab each year and store it\n",
    "        startYr = input(\"Please enter the starting year: \")\n",
    "        endYr = input(\"Please enter the end year: \")\n",
    "        readtoCSV(userInterfaceYear(startYr, endYr))\n",
    "    \n",
    "    elif userResponse == \"nominee name\":\n",
    "        name = input(\"Please enter the nominee name to search for: \")\n",
    "        userInterfaceName(name)\n",
    "    \n",
    "    elif userResponse == \"director name\":\n",
    "        name = (\"Please enter the director name to search for: \")\n",
    "        userInterfaceDir(name);\n",
    "    \n",
    "    else:\n",
    "        print(\"--------------------------------------------------------------\")\n",
    "        print(\"Input was found to be invalid. Please restart the API program.\")\n",
    "        print(\"--------------------------------------------------------------\") "
   ]
  },
  {
   "cell_type": "code",
   "execution_count": 9,
   "metadata": {},
   "outputs": [
    {
     "name": "stdout",
     "output_type": "stream",
     "text": [
      "Greetings user and welcome to the IMDB The Sequel API!\n",
      "\n",
      "This database is a compilation of oscar winning films from 1928 until 2023.\n",
      "To query the database, you may chose to enter the following commands 1) year span, 2) nominee name, or 3) director name: \n"
     ]
    },
    {
     "ename": "KeyError",
     "evalue": "'oscar_year'",
     "output_type": "error",
     "traceback": [
      "\u001b[1;31m---------------------------------------------------------------------------\u001b[0m",
      "\u001b[1;31mKeyError\u001b[0m                                  Traceback (most recent call last)",
      "File \u001b[1;32mc:\\Users\\theje\\anaconda3\\envs\\dev\\lib\\site-packages\\pandas\\core\\indexes\\base.py:3653\u001b[0m, in \u001b[0;36mIndex.get_loc\u001b[1;34m(self, key)\u001b[0m\n\u001b[0;32m   3652\u001b[0m \u001b[38;5;28;01mtry\u001b[39;00m:\n\u001b[1;32m-> 3653\u001b[0m     \u001b[38;5;28;01mreturn\u001b[39;00m \u001b[38;5;28;43mself\u001b[39;49m\u001b[38;5;241;43m.\u001b[39;49m\u001b[43m_engine\u001b[49m\u001b[38;5;241;43m.\u001b[39;49m\u001b[43mget_loc\u001b[49m\u001b[43m(\u001b[49m\u001b[43mcasted_key\u001b[49m\u001b[43m)\u001b[49m\n\u001b[0;32m   3654\u001b[0m \u001b[38;5;28;01mexcept\u001b[39;00m \u001b[38;5;167;01mKeyError\u001b[39;00m \u001b[38;5;28;01mas\u001b[39;00m err:\n",
      "File \u001b[1;32mc:\\Users\\theje\\anaconda3\\envs\\dev\\lib\\site-packages\\pandas\\_libs\\index.pyx:147\u001b[0m, in \u001b[0;36mpandas._libs.index.IndexEngine.get_loc\u001b[1;34m()\u001b[0m\n",
      "File \u001b[1;32mc:\\Users\\theje\\anaconda3\\envs\\dev\\lib\\site-packages\\pandas\\_libs\\index.pyx:176\u001b[0m, in \u001b[0;36mpandas._libs.index.IndexEngine.get_loc\u001b[1;34m()\u001b[0m\n",
      "File \u001b[1;32mpandas\\_libs\\hashtable_class_helper.pxi:7080\u001b[0m, in \u001b[0;36mpandas._libs.hashtable.PyObjectHashTable.get_item\u001b[1;34m()\u001b[0m\n",
      "File \u001b[1;32mpandas\\_libs\\hashtable_class_helper.pxi:7088\u001b[0m, in \u001b[0;36mpandas._libs.hashtable.PyObjectHashTable.get_item\u001b[1;34m()\u001b[0m\n",
      "\u001b[1;31mKeyError\u001b[0m: 'oscar_year'",
      "\nThe above exception was the direct cause of the following exception:\n",
      "\u001b[1;31mKeyError\u001b[0m                                  Traceback (most recent call last)",
      "Cell \u001b[1;32mIn[9], line 2\u001b[0m\n\u001b[0;32m      1\u001b[0m \u001b[38;5;66;03m#function call to kick things off\u001b[39;00m\n\u001b[1;32m----> 2\u001b[0m \u001b[43muserInterface\u001b[49m\u001b[43m(\u001b[49m\u001b[43m)\u001b[49m\n",
      "Cell \u001b[1;32mIn[8], line 12\u001b[0m, in \u001b[0;36muserInterface\u001b[1;34m()\u001b[0m\n\u001b[0;32m     10\u001b[0m     startYr \u001b[38;5;241m=\u001b[39m \u001b[38;5;28minput\u001b[39m(\u001b[38;5;124m\"\u001b[39m\u001b[38;5;124mPlease enter the starting year: \u001b[39m\u001b[38;5;124m\"\u001b[39m)\n\u001b[0;32m     11\u001b[0m     endYr \u001b[38;5;241m=\u001b[39m \u001b[38;5;28minput\u001b[39m(\u001b[38;5;124m\"\u001b[39m\u001b[38;5;124mPlease enter the end year: \u001b[39m\u001b[38;5;124m\"\u001b[39m)\n\u001b[1;32m---> 12\u001b[0m     readtoCSV(\u001b[43muserInterfaceYear\u001b[49m\u001b[43m(\u001b[49m\u001b[43mstartYr\u001b[49m\u001b[43m,\u001b[49m\u001b[43m \u001b[49m\u001b[43mendYr\u001b[49m\u001b[43m)\u001b[49m)\n\u001b[0;32m     14\u001b[0m \u001b[38;5;28;01melif\u001b[39;00m userResponse \u001b[38;5;241m==\u001b[39m \u001b[38;5;124m\"\u001b[39m\u001b[38;5;124mnominee name\u001b[39m\u001b[38;5;124m\"\u001b[39m:\n\u001b[0;32m     15\u001b[0m     name \u001b[38;5;241m=\u001b[39m \u001b[38;5;28minput\u001b[39m(\u001b[38;5;124m\"\u001b[39m\u001b[38;5;124mPlease enter the nominee name to search for: \u001b[39m\u001b[38;5;124m\"\u001b[39m)\n",
      "Cell \u001b[1;32mIn[4], line 7\u001b[0m, in \u001b[0;36muserInterfaceYear\u001b[1;34m(start, finish)\u001b[0m\n\u001b[0;32m      5\u001b[0m \u001b[38;5;66;03m#loop through the main database df\u001b[39;00m\n\u001b[0;32m      6\u001b[0m \u001b[38;5;28;01mfor\u001b[39;00m x \u001b[38;5;129;01min\u001b[39;00m MainDF:\n\u001b[1;32m----> 7\u001b[0m     \u001b[38;5;28mprint\u001b[39m(\u001b[43mMainDF\u001b[49m\u001b[43m[\u001b[49m\u001b[38;5;124;43m'\u001b[39;49m\u001b[38;5;124;43moscar_year\u001b[39;49m\u001b[38;5;124;43m'\u001b[39;49m\u001b[43m]\u001b[49m);\n\u001b[0;32m      8\u001b[0m     \u001b[38;5;66;03m#grab conditional field\u001b[39;00m\n\u001b[0;32m      9\u001b[0m     oscar_year \u001b[38;5;241m=\u001b[39m MainDF[\u001b[38;5;124m'\u001b[39m\u001b[38;5;124moscar_year\u001b[39m\u001b[38;5;124m'\u001b[39m];\n",
      "File \u001b[1;32mc:\\Users\\theje\\anaconda3\\envs\\dev\\lib\\site-packages\\pandas\\core\\frame.py:3761\u001b[0m, in \u001b[0;36mDataFrame.__getitem__\u001b[1;34m(self, key)\u001b[0m\n\u001b[0;32m   3759\u001b[0m \u001b[38;5;28;01mif\u001b[39;00m \u001b[38;5;28mself\u001b[39m\u001b[38;5;241m.\u001b[39mcolumns\u001b[38;5;241m.\u001b[39mnlevels \u001b[38;5;241m>\u001b[39m \u001b[38;5;241m1\u001b[39m:\n\u001b[0;32m   3760\u001b[0m     \u001b[38;5;28;01mreturn\u001b[39;00m \u001b[38;5;28mself\u001b[39m\u001b[38;5;241m.\u001b[39m_getitem_multilevel(key)\n\u001b[1;32m-> 3761\u001b[0m indexer \u001b[38;5;241m=\u001b[39m \u001b[38;5;28;43mself\u001b[39;49m\u001b[38;5;241;43m.\u001b[39;49m\u001b[43mcolumns\u001b[49m\u001b[38;5;241;43m.\u001b[39;49m\u001b[43mget_loc\u001b[49m\u001b[43m(\u001b[49m\u001b[43mkey\u001b[49m\u001b[43m)\u001b[49m\n\u001b[0;32m   3762\u001b[0m \u001b[38;5;28;01mif\u001b[39;00m is_integer(indexer):\n\u001b[0;32m   3763\u001b[0m     indexer \u001b[38;5;241m=\u001b[39m [indexer]\n",
      "File \u001b[1;32mc:\\Users\\theje\\anaconda3\\envs\\dev\\lib\\site-packages\\pandas\\core\\indexes\\base.py:3655\u001b[0m, in \u001b[0;36mIndex.get_loc\u001b[1;34m(self, key)\u001b[0m\n\u001b[0;32m   3653\u001b[0m     \u001b[38;5;28;01mreturn\u001b[39;00m \u001b[38;5;28mself\u001b[39m\u001b[38;5;241m.\u001b[39m_engine\u001b[38;5;241m.\u001b[39mget_loc(casted_key)\n\u001b[0;32m   3654\u001b[0m \u001b[38;5;28;01mexcept\u001b[39;00m \u001b[38;5;167;01mKeyError\u001b[39;00m \u001b[38;5;28;01mas\u001b[39;00m err:\n\u001b[1;32m-> 3655\u001b[0m     \u001b[38;5;28;01mraise\u001b[39;00m \u001b[38;5;167;01mKeyError\u001b[39;00m(key) \u001b[38;5;28;01mfrom\u001b[39;00m \u001b[38;5;21;01merr\u001b[39;00m\n\u001b[0;32m   3656\u001b[0m \u001b[38;5;28;01mexcept\u001b[39;00m \u001b[38;5;167;01mTypeError\u001b[39;00m:\n\u001b[0;32m   3657\u001b[0m     \u001b[38;5;66;03m# If we have a listlike key, _check_indexing_error will raise\u001b[39;00m\n\u001b[0;32m   3658\u001b[0m     \u001b[38;5;66;03m#  InvalidIndexError. Otherwise we fall through and re-raise\u001b[39;00m\n\u001b[0;32m   3659\u001b[0m     \u001b[38;5;66;03m#  the TypeError.\u001b[39;00m\n\u001b[0;32m   3660\u001b[0m     \u001b[38;5;28mself\u001b[39m\u001b[38;5;241m.\u001b[39m_check_indexing_error(key)\n",
      "\u001b[1;31mKeyError\u001b[0m: 'oscar_year'"
     ]
    }
   ],
   "source": [
    "#function call to kick things off\n",
    "userInterface();"
   ]
  },
  {
   "cell_type": "code",
   "execution_count": null,
   "metadata": {},
   "outputs": [],
   "source": []
  }
 ],
 "metadata": {
  "kernelspec": {
   "display_name": "dev",
   "language": "python",
   "name": "python3"
  },
  "language_info": {
   "codemirror_mode": {
    "name": "ipython",
    "version": 3
   },
   "file_extension": ".py",
   "mimetype": "text/x-python",
   "name": "python",
   "nbconvert_exporter": "python",
   "pygments_lexer": "ipython3",
   "version": "3.10.13"
  }
 },
 "nbformat": 4,
 "nbformat_minor": 2
}
