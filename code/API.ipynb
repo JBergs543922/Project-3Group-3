{
 "cells": [
  {
   "cell_type": "code",
   "execution_count": null,
   "metadata": {},
   "outputs": [],
   "source": [
    "#----------------------------------------------------------------------\n",
    "#IMDB The Sequel API Access\n",
    "#GWU Project3Group3\n",
    "#----------------------------------------------------------------------"
   ]
  },
  {
   "cell_type": "code",
   "execution_count": null,
   "metadata": {},
   "outputs": [],
   "source": [
    "#imports\n",
    "import pandas as pd;\n",
    "from pathlib import Path;\n",
    "from pyspark.sql import SparkSession;\n",
    "import sqlite3 as sl;"
   ]
  },
  {
   "cell_type": "code",
   "execution_count": null,
   "metadata": {},
   "outputs": [],
   "source": [
    "#convert SQL database to csv or pandas dataframe\n",
    "file_path = Path(\"../Oscar Data/<databasename>\");\n",
    "#probably need code to access the sql database"
   ]
  },
  {
   "cell_type": "code",
   "execution_count": null,
   "metadata": {},
   "outputs": [],
   "source": [
    "#Database Year Fetch\n",
    "def userInterfaceYear(start, finish):\n",
    "    dataFrame = \n",
    "    for x in <sql db variable>:\n",
    "        if():\n",
    "            {\n",
    "            dataFrame.append()\n",
    "            }\n",
    "    "
   ]
  },
  {
   "cell_type": "code",
   "execution_count": null,
   "metadata": {},
   "outputs": [],
   "source": [
    "#Database name Fetch\n",
    "def userInterfaceName(name):\n",
    "    #loop through database for specific entry\n",
    "    dataFrame = \n",
    "    for x in <sql db variable>:\n",
    "        if():\n",
    "            {\n",
    "            dataFrame.append()\n",
    "            }"
   ]
  },
  {
   "cell_type": "code",
   "execution_count": null,
   "metadata": {},
   "outputs": [],
   "source": [
    "def userInterfaceSub(subject):\n",
    "    #loop through database for specific entry\n",
    "    dataFrame = \n",
    "    for x in <sql db variable>:\n",
    "        if():\n",
    "            {\n",
    "            dataFrame.append()\n",
    "            }"
   ]
  },
  {
   "cell_type": "code",
   "execution_count": null,
   "metadata": {},
   "outputs": [],
   "source": [
    "def "
   ]
  },
  {
   "cell_type": "code",
   "execution_count": null,
   "metadata": {},
   "outputs": [],
   "source": [
    "def readtoCSV(dataFrame): \n",
    "    #read db to a csv for output\n",
    "    \n",
    "    #save database as a csv file"
   ]
  },
  {
   "cell_type": "code",
   "execution_count": null,
   "metadata": {},
   "outputs": [],
   "source": [
    "#Prompt/Interface for User\n",
    "def userInterface():\n",
    "    print(\"Greetings user and welcome to the IMDB The Sequel API!\");\n",
    "    print(\"\");\n",
    "    print(\"This database is a compilation of oscar winning films from 1928 until 2023.\");\n",
    "    print(\"To query the database, you may chose to enter the following commands 1) year span, 2) celebrity name, or 3) subject category: \");\n",
    "    userResponse = input(\"Please enter your search field: \");\n",
    "    if(userResponse == \"year span\"):\n",
    "    {\n",
    "        userBegYr = input(\"Please enter the starting year: \")\n",
    "        #grab each year and store it\n",
    "        userInterfaceYear(userBegYr, finish)\n",
    "    }\n",
    "    elif(userResponse == \"celebrity name\"):\n",
    "        {\n",
    "        print(\"Please enter the celebrity name to search for: \")\n",
    "        userInterfaceName()\n",
    "    }\n",
    "    elif(userResponse == \"subject category\"):{\n",
    "        print(\"Please enter the subject category to search for: \")\n",
    "        userInterfaceSub();\n",
    "    }\n",
    "    else(){\n",
    "        print(\"--------------------------------------------------------------\")\n",
    "        print(\"Input was found to be invalid. Please restart the API program.\")\n",
    "        print(\"--------------------------------------------------------------\")\n",
    "    }\n",
    "    "
   ]
  }
 ],
 "metadata": {
  "kernelspec": {
   "display_name": "dev",
   "language": "python",
   "name": "python3"
  },
  "language_info": {
   "name": "python",
   "version": "3.10.13"
  }
 },
 "nbformat": 4,
 "nbformat_minor": 2
}
