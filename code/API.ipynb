{
 "cells": [
  {
   "cell_type": "code",
   "execution_count": null,
   "metadata": {},
   "outputs": [],
   "source": [
    "#----------------------------------------------------------------------\n",
    "#IMDB The Sequel API Access\n",
    "#GWU Project3Group3\n",
    "#----------------------------------------------------------------------"
   ]
  },
  {
   "cell_type": "code",
   "execution_count": null,
   "metadata": {},
   "outputs": [],
   "source": [
    "#imports"
   ]
  },
  {
   "cell_type": "code",
   "execution_count": null,
   "metadata": {},
   "outputs": [],
   "source": [
    "#Prompt/Interface for User\n",
    "def userInterface():\n",
    "    print(\"Greetings user and welcome to the IMDB The Sequel API!\")\n",
    "    print(\"\")\n",
    "    print(\"This database is a compilation of oscar winning films from 1928 until 2023.\")\n",
    "    print(\"To query the database, you may chose to enter the following commands 1) year span, 2) celebrity name, or 3) subject category: \")\n",
    "    userResponse = \n",
    "    if (userResponse == \"year span\"):\n",
    "    {\n",
    "        print(\"Please enter the year span you desire (example - 1928, 1950): \")\n",
    "        userYearEntry = \n",
    "        #grab each year and store it\n",
    "        start = \n",
    "        finish\n",
    "        userInterfaceYear(start, finish)\n",
    "    }\n",
    "    if (userResponse == \"celebrity name\"){\n",
    "        print(\"Please enter the celebrity name to search for: \")\n",
    "        userInterfaceName()\n",
    "    }\n",
    "    if (userResponse == \"subject category\"):{\n",
    "        print(\"Please enter the subject category to search for: \")\n",
    "        userInterfaceSub();\n",
    "    }\n",
    "    userInterface()"
   ]
  },
  {
   "cell_type": "code",
   "execution_count": null,
   "metadata": {},
   "outputs": [],
   "source": [
    "#Database Year Fetch\n",
    "def userInterfaceYear(int start, int finish):\n",
    "    "
   ]
  },
  {
   "cell_type": "code",
   "execution_count": null,
   "metadata": {},
   "outputs": [],
   "source": [
    "#Database name Fetch\n",
    "def userInterfaceName(str name):\n",
    "    "
   ]
  },
  {
   "cell_type": "code",
   "execution_count": null,
   "metadata": {},
   "outputs": [],
   "source": [
    "def userInterfaceSub(str subject):\n",
    "    "
   ]
  },
  {
   "cell_type": "code",
   "execution_count": null,
   "metadata": {},
   "outputs": [],
   "source": [
    "def readtoCSV(): #read db to a csv for output\n",
    "    "
   ]
  }
 ],
 "metadata": {
  "language_info": {
   "name": "python"
  }
 },
 "nbformat": 4,
 "nbformat_minor": 2
}
